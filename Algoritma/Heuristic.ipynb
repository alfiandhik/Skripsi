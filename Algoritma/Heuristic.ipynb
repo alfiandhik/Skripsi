{
  "nbformat": 4,
  "nbformat_minor": 0,
  "metadata": {
    "colab": {
      "provenance": []
    },
    "kernelspec": {
      "name": "python3",
      "display_name": "Python 3"
    },
    "language_info": {
      "name": "python"
    }
  },
  "cells": [
    {
      "cell_type": "code",
      "execution_count": 1,
      "metadata": {
        "id": "NeZ-2-5BIP0t"
      },
      "outputs": [],
      "source": [
        "from collections import Counter"
      ]
    },
    {
      "cell_type": "code",
      "source": [
        "def calculate_item_frequencies(transactions):\n",
        "    item_counter = Counter()\n",
        "    for transaction in transactions:\n",
        "        item_counter.update(transaction)\n",
        "    return item_counter"
      ],
      "metadata": {
        "id": "GqIiNiLfIUD5"
      },
      "execution_count": 2,
      "outputs": []
    },
    {
      "cell_type": "code",
      "source": [
        "def hide_sensitive_itemsets_by_frequency(transactions, sensitive_itemsets):\n",
        "    item_frequencies = calculate_item_frequencies(transactions)\n",
        "\n",
        "    protected_transactions = []\n",
        "    for transaction in transactions:\n",
        "        modified_transaction = transaction.copy()\n",
        "        for itemset in sensitive_itemsets:\n",
        "            if set(itemset).issubset(set(transaction)):\n",
        "                item_to_remove = max(itemset, key=lambda x: item_frequencies[x])\n",
        "                modified_transaction.remove(item_to_remove)\n",
        "        protected_transactions.append(modified_transaction)\n",
        "    return protected_transactions"
      ],
      "metadata": {
        "id": "RP_vty5cIWEH"
      },
      "execution_count": 8,
      "outputs": []
    },
    {
      "cell_type": "code",
      "source": [
        "file_path = 'foodmartFIM.txt'\n",
        "\n",
        "with open(file_path, 'r') as file:\n",
        "    transactions = [list(map(int, line.strip().split())) for line in file.readlines()]"
      ],
      "metadata": {
        "id": "6WaSy3MoIbJm"
      },
      "execution_count": 4,
      "outputs": []
    },
    {
      "cell_type": "code",
      "source": [
        "sensitive_itemsets = [\n",
        "    (214, 763),\n",
        "    (778, 195, 385),\n",
        "    (12, 934),\n",
        "    (359, 282),\n",
        "    (16, 898, 1368),\n",
        "    (1299, 557),\n",
        "    (1336, 128, 224, 667),\n",
        "    (1440, 1350),\n",
        "    (1222, 354, 1502),\n",
        "    (110, 1419, 610, 1065),\n",
        "    (890, 1399, 284),\n",
        "    (1195, 1478, 629),\n",
        "    (615, 459),\n",
        "    (1187, 977, 1193),\n",
        "    (907, 1202, 1046),\n",
        "    (487, 570),\n",
        "    (551, 1206, 384),\n",
        "    (1432, 251),\n",
        "    (69, 1444),\n",
        "    (11, 1213, 1136)\n",
        "]"
      ],
      "metadata": {
        "id": "Nfgab1H-Ie2h"
      },
      "execution_count": 5,
      "outputs": []
    },
    {
      "cell_type": "code",
      "source": [
        "protected_transactions = hide_sensitive_itemsets_by_frequency(transactions, sensitive_itemsets)"
      ],
      "metadata": {
        "id": "hXC3PhVaIhfP"
      },
      "execution_count": 6,
      "outputs": []
    },
    {
      "cell_type": "code",
      "source": [
        "output_file_path = 'heuristic_foodmart.txt'\n",
        "with open(output_file_path, 'w') as file:\n",
        "    for transaction in protected_transactions:\n",
        "        file.write(\" \".join(map(str, transaction)) + \"\\n\")"
      ],
      "metadata": {
        "id": "Wupv1kPzIk2Z"
      },
      "execution_count": 7,
      "outputs": []
    }
  ]
}