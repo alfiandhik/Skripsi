{
  "nbformat": 4,
  "nbformat_minor": 0,
  "metadata": {
    "colab": {
      "provenance": []
    },
    "kernelspec": {
      "name": "python3",
      "display_name": "Python 3"
    },
    "language_info": {
      "name": "python"
    }
  },
  "cells": [
    {
      "cell_type": "code",
      "execution_count": 1,
      "metadata": {
        "id": "nLFLaJuGD-C0"
      },
      "outputs": [],
      "source": [
        "from collections import Counter"
      ]
    },
    {
      "cell_type": "code",
      "source": [
        "def calculate_item_frequencies(transactions):\n",
        "    item_counter = Counter()\n",
        "    for transaction in transactions:\n",
        "        item_counter.update(transaction)\n",
        "    return item_counter"
      ],
      "metadata": {
        "id": "1QWg-XdHEDts"
      },
      "execution_count": 2,
      "outputs": []
    },
    {
      "cell_type": "code",
      "source": [
        "def hide_sensitive_itemsets_by_frequency(transactions, sensitive_itemsets):\n",
        "    # Calculate the frequency of each item across all transactions\n",
        "    item_frequencies = {}\n",
        "    for transaction in transactions:\n",
        "        for item in transaction:\n",
        "            if item in item_frequencies:\n",
        "                item_frequencies[item] += 1\n",
        "            else:\n",
        "                item_frequencies[item] = 1\n",
        "\n",
        "    protected_transactions = []\n",
        "    for transaction in transactions:\n",
        "        modified_transaction = transaction.copy()\n",
        "        for itemset in sensitive_itemsets:\n",
        "            if set(itemset).issubset(set(transaction)):\n",
        "                # Find the item with the maximum frequency in the itemset\n",
        "                item_to_remove = max(itemset, key=lambda x: item_frequencies.get(x, 0))\n",
        "                # Check if the item is in the modified transaction before removing\n",
        "                if item_to_remove in modified_transaction:\n",
        "                    modified_transaction.remove(item_to_remove)\n",
        "        protected_transactions.append(modified_transaction)\n",
        "    return protected_transactions"
      ],
      "metadata": {
        "id": "NAUTvoPyEHEV"
      },
      "execution_count": 8,
      "outputs": []
    },
    {
      "cell_type": "code",
      "source": [
        "file_path = 'transaction.txt'\n",
        "\n",
        "with open(file_path, 'r') as file:\n",
        "    transactions = [list(map(int, line.strip().split())) for line in file.readlines()]"
      ],
      "metadata": {
        "id": "xRYBx0QmEKOQ"
      },
      "execution_count": 9,
      "outputs": []
    },
    {
      "cell_type": "code",
      "source": [
        "sensitive_itemsets = [\n",
        "    (24458, 36306),\n",
        "    (24458, 25608),\n",
        "    (24458, 35918),\n",
        "    (24458, 43336),\n",
        "    (11788, 24458),\n",
        "    (10550, 11776, 11788),\n",
        "    (10550, 36308),\n",
        "    (10550, 11788, 36308),\n",
        "    (10550, 11788),\n",
        "    (37994, 43331),\n",
        "    (11777, 12408),\n",
        "    (11774, 11777),\n",
        "    (11777, 43338),\n",
        "    (11776, 11777),\n",
        "    (11777, 36308),\n",
        "    (11777, 35918),\n",
        "    (11777, 11788, 35918),\n",
        "    (11777, 11788),\n",
        "    (11777, 43337),\n",
        "    (11777, 11788, 43337),\n",
        "    (25608, 26826),\n",
        "    (11776, 25608),\n",
        "    (25608, 64866),\n",
        "    (25608, 43338),\n",
        "    (12408, 25608),\n",
        "    (25608, 43028),\n",
        "    (25608, 37996),\n",
        "    (25608, 36306),\n",
        "    (25608, 36306, 36308),\n",
        "    (25608, 36305),\n",
        "    (11788, 37996, 38176),\n",
        "    (36308, 37996, 38176),\n",
        "    (36306, 38176),\n",
        "    (11788, 36306, 38176),\n",
        "    (36306, 36308, 38176),\n",
        "    (11776, 38176),\n",
        "    (11776, 11788, 38176),\n",
        "    (36305, 38176),\n",
        "    (11788, 36305, 38176),\n",
        "    (36305, 36308, 38176),\n",
        "    (11776, 37996, 64866),\n",
        "    (36306, 37996, 64866),\n",
        "    (37996, 43336, 64866),\n",
        "    (11788, 37996, 64866),\n",
        "    (36308, 37996, 64866),\n",
        "    (43336, 64866),\n",
        "    (11776, 43336, 64866),\n",
        "    (36306, 43336, 64866),\n",
        "    (36306, 36308, 43336, 64866),\n",
        "    (11788, 43336, 64866),\n",
        "]"
      ],
      "metadata": {
        "id": "96BqLNzQEP_7"
      },
      "execution_count": 10,
      "outputs": []
    },
    {
      "cell_type": "code",
      "source": [
        "protected_transactions = hide_sensitive_itemsets_by_frequency(transactions, sensitive_itemsets)"
      ],
      "metadata": {
        "id": "NOkvfhPMEXMd"
      },
      "execution_count": 11,
      "outputs": []
    },
    {
      "cell_type": "code",
      "source": [
        "\n",
        "output_file_path = 'heuristic_transaction2.txt'\n",
        "with open(output_file_path, 'w') as file:\n",
        "    for transaction in protected_transactions:\n",
        "        file.write(\" \".join(map(str, transaction)) + \"\\n\")"
      ],
      "metadata": {
        "id": "kq72b7nWFAcj"
      },
      "execution_count": 12,
      "outputs": []
    }
  ]
}